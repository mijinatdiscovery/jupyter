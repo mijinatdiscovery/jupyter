{
 "cells": [
  {
   "cell_type": "code",
   "execution_count": 2,
   "id": "c5feb7b2",
   "metadata": {},
   "outputs": [],
   "source": [
    "import numpy as np\n",
    "import pandas as pd\n",
    "import random\n",
    "import matplotlib.pyplot as plt"
   ]
  },
  {
   "cell_type": "markdown",
   "id": "75227f16",
   "metadata": {},
   "source": [
    "## Bootstrapping exercise\n",
    "- There are two correlated stocks, $X$ and $Y$, which are normally distributed\n",
    "- You will invest in both stocks with all your money\n",
    "- Your goal is to find $\\alpha \\in [0,1]$ (the portion of your money invested in stock $X$) to minimize the variance of the portfolio, i.e.,\n",
    " $$ \\mathbb{V}\\mathrm{AR}[\\alpha X + (1-\\alpha)Y] $$\n",
    "- You are given \"returns.npy\", a 2-D numpy array of the past $200$ returns of $(X,Y)$.\n",
    "\n",
    "Exercise questions: \n",
    "1. Estimate $\\mu_X, \\mu_Y, \\sigma_{X}^2, \\sigma_{Y}^2, \\sigma_{XY}$ from the sample, and then compute the optimal investment strategy $\\alpha$\n",
    "2. Since we estimated the parameters by looking at a sample, we may be severly biased. Hence, use bootstrapping to iteratively sample $200$ points (with replacement) from the previous returns, and estimate the optimal investment strategy each time. Apply this $B = 500$ times and compute the standard error of the optimal $\\alpha$ that we computed on the original set of previous returns."
   ]
  },
  {
   "cell_type": "code",
   "execution_count": 3,
   "id": "609ebd23",
   "metadata": {},
   "outputs": [],
   "source": [
    "# load\n",
    "returns = np.load('returns.npy')\n",
    "n = 200"
   ]
  },
  {
   "cell_type": "code",
   "execution_count": 4,
   "id": "4df6efc7",
   "metadata": {},
   "outputs": [
    {
     "name": "stdout",
     "output_type": "stream",
     "text": [
      "[2.97259589 2.98935547]\n"
     ]
    }
   ],
   "source": [
    "#Estimate mean returns\n",
    "hat_mean = np.mean(returns,0)\n",
    "print(hat_mean)"
   ]
  },
  {
   "cell_type": "code",
   "execution_count": 5,
   "id": "395d0ed2",
   "metadata": {},
   "outputs": [
    {
     "name": "stdout",
     "output_type": "stream",
     "text": [
      "1.291266848642483\n",
      "1.1075660892225494\n",
      "0.4650946600840741\n"
     ]
    }
   ],
   "source": [
    "#estimate covariance matrix\n",
    "hat_cov = np.zeros((2,2))\n",
    "for i in range(n):\n",
    "    hat_cov = hat_cov + (returns[i]-hat_mean).reshape((2,1))*(returns[i]-hat_mean).reshape((1,2))\n",
    "hat_cov = hat_cov/(n-1)\n",
    "hat_varx = hat_cov[0,0]\n",
    "hat_vary = hat_cov[1,1]\n",
    "hat_covar = hat_cov[0,1]\n",
    "print(hat_varx)\n",
    "print(hat_vary)\n",
    "print(hat_covar)"
   ]
  },
  {
   "cell_type": "markdown",
   "id": "d4028475",
   "metadata": {},
   "source": [
    "Optimal $\\alpha^\\star$ -\n",
    "\\begin{align*}\n",
    "\\alpha^\\star = \\dfrac{\\sigma^2_Y - \\sigma_{XY}}{\\sigma^2_X + \\sigma^2_Y - 2\\sigma_{XY}}.\n",
    "\\end{align*}"
   ]
  },
  {
   "cell_type": "code",
   "execution_count": 6,
   "id": "e7deead6",
   "metadata": {},
   "outputs": [
    {
     "name": "stdout",
     "output_type": "stream",
     "text": [
      "0.437\n"
     ]
    }
   ],
   "source": [
    "#estimate optimal investment\n",
    "def optimal_alpha(varx, vary, covar):\n",
    "    return (float) (vary - covar)/(varx + vary - 2*covar)\n",
    "optimal_investment = round(optimal_alpha(hat_varx, hat_vary, hat_covar),3)\n",
    "print(optimal_investment)"
   ]
  },
  {
   "cell_type": "code",
   "execution_count": 10,
   "id": "1f2ffa41",
   "metadata": {},
   "outputs": [
    {
     "data": {
      "text/plain": [
       "0.077"
      ]
     },
     "execution_count": 10,
     "metadata": {},
     "output_type": "execute_result"
    }
   ],
   "source": [
    "#use bootstrapping for std. error associated with this technique of finding the optimal investment\n",
    "B = 500 #number of bootstraps\n",
    "samples = n #sample n each time\n",
    "simulation = 1000\n",
    "estimations = np.zeros(simulation) #save estimated alphas\n",
    "\n",
    "def generate_sample(n, varx=hat_varx, vary=hat_vary, covar=hat_covar): #generate a sample of n returns\n",
    "    mu = np.array([2 ,2])\n",
    "    r = np.array([\n",
    "            [  varx, covar],\n",
    "            [ covar,  vary]])\n",
    "    sample_returns = np.random.multivariate_normal(mu, r, size=n)\n",
    "    return sample_returns\n",
    "\n",
    "def hat_alpha(sample_returns): \n",
    "    hat_mean = np.mean(sample_returns,0)\n",
    "    hat_cov = np.zeros((2,2))\n",
    "    n = np.size(sample_returns,0)\n",
    "    for i in range(n):\n",
    "        hat_cov = hat_cov + (sample_returns[i]-hat_mean).reshape((2,1))*(sample_returns[i]-hat_mean).reshape((1,2))\n",
    "    hat_cov = hat_cov/(n-1)\n",
    "    hat_varx = hat_cov[0,0]\n",
    "    hat_vary = hat_cov[1,1]\n",
    "    hat_covar = hat_cov[0,1]\n",
    "    return round(optimal_alpha(hat_varx, hat_vary, hat_covar),3)\n",
    "\n",
    "for sim in range(simulation): #simulate this many times\n",
    "    generated_sample = generate_sample(samples) #sample with replacements\n",
    "    estimations[sim] = hat_alpha(generated_sample) #write the optimized alpha on the sample\n",
    "bootstrap_error = np.sqrt( np.sum(np.square(estimations - bar_alpha)) /(B-1))\n",
    "round(bootstrap_error,3)"
   ]
  },
  {
   "cell_type": "markdown",
   "id": "e8e20d3e",
   "metadata": {},
   "source": [
    "Report `optimal_investment` and `bootrap_error`"
   ]
  }
 ],
 "metadata": {
  "kernelspec": {
   "display_name": "Python 3 (ipykernel)",
   "language": "python",
   "name": "python3"
  },
  "language_info": {
   "codemirror_mode": {
    "name": "ipython",
    "version": 3
   },
   "file_extension": ".py",
   "mimetype": "text/x-python",
   "name": "python",
   "nbconvert_exporter": "python",
   "pygments_lexer": "ipython3",
   "version": "3.11.4"
  }
 },
 "nbformat": 4,
 "nbformat_minor": 5
}
